{
 "cells": [
  {
   "cell_type": "code",
   "execution_count": null,
   "metadata": {
    "collapsed": true
   },
   "outputs": [],
   "source": [
    "import toml\n",
    "import pandas as pd\n",
    "import numpy as np\n",
    "import seaborn as sns\n",
    "import matplotlib.pyplot as plt\n",
    "import matplotlib as mpl\n",
    "import sqlalchemy as sa\n",
    "\n",
    "sns.set_theme()"
   ]
  },
  {
   "cell_type": "code",
   "execution_count": null,
   "outputs": [],
   "source": [
    "config = toml.load(\"./db.toml\")['psql']\n",
    "connection_string = f\"postgresql://{config['user']}:{config['password']}@{config['host']}:{config['port']}/{config['database']}\""
   ],
   "metadata": {
    "collapsed": false
   }
  },
  {
   "cell_type": "code",
   "execution_count": null,
   "outputs": [],
   "source": [
    "conn = sa.create_engine(connection_string)"
   ],
   "metadata": {
    "collapsed": false
   }
  },
  {
   "cell_type": "code",
   "execution_count": null,
   "outputs": [],
   "source": [
    "def cdf(series: pd.Series) -> pd.DataFrame:\n",
    "    \"\"\" calculates the cumulative distribution function of the given series\"\"\"\n",
    "    return pd.DataFrame.from_dict({\n",
    "        series.name: np.append(series.sort_values(), series.max()),\n",
    "        \"cdf\": np.linspace(0, 1, len(series) + 1)\n",
    "    })"
   ],
   "metadata": {
    "collapsed": false
   }
  },
  {
   "cell_type": "code",
   "execution_count": null,
   "outputs": [],
   "source": [
    "sns.set_theme()\n",
    "dpi = 150"
   ],
   "metadata": {
    "collapsed": false
   }
  },
  {
   "cell_type": "code",
   "execution_count": null,
   "outputs": [],
   "source": [
    "df_runs = pd.read_sql_query(\"SELECT * FROM runs\", con=conn)"
   ],
   "metadata": {
    "collapsed": false
   }
  },
  {
   "cell_type": "code",
   "execution_count": null,
   "outputs": [],
   "source": [
    "df_measurements = pd.read_sql_query(\"SELECT * FROM measurements WHERE run_id >= 4 AND error IS NULL AND type = 'KUBO'\", con=conn)"
   ],
   "metadata": {
    "collapsed": false
   }
  },
  {
   "cell_type": "code",
   "execution_count": null,
   "outputs": [],
   "source": [
    "df = pd.concat([df_measurements, pd.json_normalize(df_measurements['metrics'])], axis=1).drop(\"metrics\", axis=1).merge(df_runs, left_on=\"run_id\", right_on=\"id\")"
   ],
   "metadata": {
    "collapsed": false
   }
  },
  {
   "cell_type": "code",
   "execution_count": null,
   "outputs": [],
   "source": [
    "data = df[df[\"run_id\"] >= 4].copy()"
   ],
   "metadata": {
    "collapsed": false
   }
  },
  {
   "cell_type": "code",
   "execution_count": null,
   "outputs": [],
   "source": [
    "def get_percentiles(data: pd.DataFrame, percentile: float = 0.5, metric: str = \"performanceTimingPageLoad\"):\n",
    "    agg = data[[\"website\", \"region\", metric]].groupby([\"website\", \"region\"]).quantile(percentile, numeric_only=True).reset_index()\n",
    "\n",
    "    row_labels = list(sorted(agg[\"region\"].unique()))\n",
    "    col_labels = list(sorted(agg[\"website\"].unique()))\n",
    "    dat = []\n",
    "    counts = []\n",
    "    for region in row_labels:\n",
    "        region_values = []\n",
    "        region_counts = []\n",
    "        for website in col_labels:\n",
    "            region_counts += [df[(df[\"region\"] == region) & (df[\"website\"] == website)].count().iloc[0]]\n",
    "            series = agg[(agg[\"region\"] == region) & (agg[\"website\"] == website)][metric]\n",
    "            if len(series) > 0:\n",
    "                region_values += [series.iloc[0]/1000]\n",
    "            else:\n",
    "                region_values += [np.NAN]\n",
    "        dat += [region_values]\n",
    "        counts += [region_counts]\n",
    "    dat = np.array(dat)\n",
    "    counts = np.array(counts)\n",
    "    return dat, counts, row_labels, col_labels"
   ],
   "metadata": {
    "collapsed": false
   }
  },
  {
   "cell_type": "code",
   "execution_count": null,
   "outputs": [],
   "source": [
    "def plot_metric(title:str, metric: str):\n",
    "\n",
    "    fig, axes = plt.subplots(3, 1, figsize=[15, 20])\n",
    "\n",
    "    for idx, percentile in enumerate([0.5, 0.9, 0.99]):\n",
    "\n",
    "        cbar_kw = {}\n",
    "\n",
    "\n",
    "        dat, counts, row_labels, col_labels = get_percentiles(data, percentile, metric)\n",
    "\n",
    "        ax = fig.axes[idx]\n",
    "\n",
    "        im = ax.imshow(dat, cmap=sns.color_palette(\"rocket_r\", as_cmap=True))\n",
    "\n",
    "        # Create colorbar\n",
    "        cbar = ax.figure.colorbar(im, ax=ax, **cbar_kw)\n",
    "        cbar.ax.set_ylabel(\"Time in Seconds\", rotation=-90, va=\"bottom\")\n",
    "\n",
    "        # Show all ticks and label them with the respective list entries.\n",
    "        ax.set_xticks(np.arange(dat.shape[1]), labels=col_labels)\n",
    "        ax.set_yticks(np.arange(dat.shape[0]), labels=row_labels)\n",
    "\n",
    "        # Let the horizontal axes labeling appear on top.\n",
    "        ax.tick_params(top=True, bottom=False,\n",
    "                       labeltop=True, labelbottom=False)\n",
    "\n",
    "        # Rotate the tick labels and set their alignment.\n",
    "        plt.setp(ax.get_xticklabels(), rotation=-30, ha=\"right\",\n",
    "                 rotation_mode=\"anchor\")\n",
    "\n",
    "        # Turn spines off and create white grid.\n",
    "        ax.spines[:].set_visible(False)\n",
    "\n",
    "        ax.set_xticks(np.arange(dat.shape[1]+1)-.5, minor=True)\n",
    "        ax.set_yticks(np.arange(dat.shape[0]+1)-.5, minor=True)\n",
    "        ax.grid(False)\n",
    "        ax.tick_params(which=\"minor\", bottom=False, left=False)\n",
    "\n",
    "        threshold = im.norm(dat.max())/2.\n",
    "        textcolors=(\"#212121\", \"white\")\n",
    "        kw = dict(ha=\"center\",va=\"center\")\n",
    "        fmtr = mpl.ticker.StrMethodFormatter(\"{x:.3f}\")\n",
    "        for i in range(dat.shape[0]):\n",
    "            for j in range(dat.shape[1]):\n",
    "                tc = textcolors[int(im.norm(dat[i, j]) > threshold)]\n",
    "                kw.update(color=tc)\n",
    "                im.axes.text(j, i, fmtr(dat[i, j]), **kw)\n",
    "                im.axes.text(j + 0.5, i + 0.5, counts[i, j], ha=\"right\", va=\"bottom\", color=tc, fontsize=8)\n",
    "\n",
    "        ax.set_title(f\"p{int(percentile * 100)} {title}\")\n",
    "        fig.tight_layout()\n"
   ],
   "metadata": {
    "collapsed": false
   }
  },
  {
   "cell_type": "code",
   "execution_count": null,
   "outputs": [],
   "source": [
    "plot_metric(\"Performance Timining Page Load\", \"performanceTimingPageLoad\")"
   ],
   "metadata": {
    "collapsed": false
   }
  },
  {
   "cell_type": "code",
   "execution_count": null,
   "outputs": [],
   "source": [
    "plot_metric(\"Time To First Byte\", \"timeToFirstByte\")"
   ],
   "metadata": {
    "collapsed": false
   }
  },
  {
   "cell_type": "code",
   "execution_count": null,
   "outputs": [],
   "source": [],
   "metadata": {
    "collapsed": false
   }
  }
 ],
 "metadata": {
  "kernelspec": {
   "display_name": "Python 3",
   "language": "python",
   "name": "python3"
  },
  "language_info": {
   "codemirror_mode": {
    "name": "ipython",
    "version": 2
   },
   "file_extension": ".py",
   "mimetype": "text/x-python",
   "name": "python",
   "nbconvert_exporter": "python",
   "pygments_lexer": "ipython2",
   "version": "2.7.6"
  }
 },
 "nbformat": 4,
 "nbformat_minor": 0
}
